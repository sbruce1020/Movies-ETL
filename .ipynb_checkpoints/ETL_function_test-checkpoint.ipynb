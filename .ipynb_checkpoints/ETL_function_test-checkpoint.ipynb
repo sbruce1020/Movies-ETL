version https://git-lfs.github.com/spec/v1
oid sha256:45b9c7f42ee9cf75b05cf2c0f60e37db331337c1ebe456ce7e5ee18cbfc65ee0
size 2960
